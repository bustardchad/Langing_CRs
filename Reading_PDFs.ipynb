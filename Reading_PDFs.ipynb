{
 "cells": [
  {
   "cell_type": "markdown",
   "id": "polish-wallet",
   "metadata": {},
   "source": [
    "# Reading PDFs"
   ]
  },
  {
   "cell_type": "code",
   "execution_count": 1,
   "id": "unsigned-marshall",
   "metadata": {},
   "outputs": [
    {
     "name": "stdout",
     "output_type": "stream",
     "text": [
      "Collecting pypdf\n",
      "  Downloading pypdf-3.8.1-py3-none-any.whl (248 kB)\n",
      "\u001b[K     |████████████████████████████████| 248 kB 6.6 MB/s eta 0:00:01\n",
      "\u001b[?25hRequirement already satisfied: typing_extensions>=3.10.0.0; python_version < \"3.10\" in /Library/Frameworks/Python.framework/Versions/3.8/lib/python3.8/site-packages (from pypdf) (4.3.0)\n",
      "Installing collected packages: pypdf\n",
      "Successfully installed pypdf-3.8.1\n",
      "\u001b[33mWARNING: You are using pip version 20.2.3; however, version 23.1.2 is available.\n",
      "You should consider upgrading via the '/Library/Frameworks/Python.framework/Versions/3.8/bin/python3.8 -m pip install --upgrade pip' command.\u001b[0m\n"
     ]
    }
   ],
   "source": [
    "!pip install pypdf"
   ]
  },
  {
   "cell_type": "code",
   "execution_count": 2,
   "id": "careful-juice",
   "metadata": {},
   "outputs": [],
   "source": [
    "from langchain.document_loaders import PyPDFLoader\n",
    "\n",
    "loader = PyPDFLoader(\"https://arxiv.org/pdf/2302.03803.pdf\")\n",
    "pages = loader.load_and_split()"
   ]
  },
  {
   "cell_type": "code",
   "execution_count": 3,
   "id": "juvenile-analyst",
   "metadata": {},
   "outputs": [
    {
     "data": {
      "text/plain": [
       "Document(page_content='arXiv:2302.03803v1  [math.AG]  7 Feb 2023A WEAK(k,k)-LEFSCHETZ THEOREM FOR PROJECTIVE\\nTORIC ORBIFOLDS\\nWilliam D. Montoya\\nInstituto de Matem´ atica, Estat´ ıstica e Computa¸ c˜ ao Cie nt´ ıﬁca,\\nUniversidade Estadual de Campinas (UNICAMP),\\nRua S´ ergio Buarque de Holanda 651, 13083-859, Campinas, SP , Brazil\\nFebruary 9, 2023\\nAbstract\\nFirstly we show a generalization of the (1,1)-Lefschetz theorem for projective\\ntoric orbifolds and secondly we prove that on 2 k-dimensional quasi-smooth hyper-\\nsurfaces coming from quasi-smooth intersection surfaces, under the Cayley trick,\\nevery rational(k,k)-cohomology class is algebraic, i.e., the Hodge conjecture holds\\non them.\\n1 Introduction\\nIn [3] we proved that, under suitable conditions, on a very general codimension squasi-\\nsmooth intersection subvariety Xin a projective toric orbifold Pd\\nΣwithd+s=2(k+1)\\nthe Hodge conjecture holds, that is, every (p,p)-cohomology class, under the Poincar´ e\\nduality is a rational linear combination of fundamental classes of alge braic subvarieties\\nofX. The proof of the above-mentioned result relies, for p≠d+1−s, on a Lefschetz\\nDate: February 9, 2023\\n2020 Mathematics Subject Classiﬁcation: 14C30, 14M10, 14J70, 14M25\\nKeywords: (1,1)- Lefschetz theorem, Hodge conjecture, toric varieties, c omplete intersection\\nEmail:wmontoya@ime.unicamp.br\\n1', metadata={'source': '/var/folders/fl/cm82sjz50rn9wjwj_gyt763r0000gp/T/tmp3re9017i', 'page': 0})"
      ]
     },
     "execution_count": 3,
     "metadata": {},
     "output_type": "execute_result"
    }
   ],
   "source": [
    "pages[0]"
   ]
  },
  {
   "cell_type": "markdown",
   "id": "packed-rebate",
   "metadata": {},
   "source": [
    "## Or can use arxivloader and pymupdf"
   ]
  },
  {
   "cell_type": "code",
   "execution_count": 5,
   "id": "greenhouse-attention",
   "metadata": {},
   "outputs": [
    {
     "name": "stdout",
     "output_type": "stream",
     "text": [
      "Collecting arxiv\n",
      "  Downloading arxiv-1.4.7-py3-none-any.whl (12 kB)\n",
      "Collecting feedparser\n",
      "  Downloading feedparser-6.0.10-py3-none-any.whl (81 kB)\n",
      "\u001b[K     |████████████████████████████████| 81 kB 5.2 MB/s eta 0:00:011\n",
      "\u001b[?25hCollecting sgmllib3k\n",
      "  Downloading sgmllib3k-1.0.0.tar.gz (5.8 kB)\n",
      "Building wheels for collected packages: sgmllib3k\n",
      "  Building wheel for sgmllib3k (setup.py) ... \u001b[?25ldone\n",
      "\u001b[?25h  Created wheel for sgmllib3k: filename=sgmllib3k-1.0.0-py3-none-any.whl size=6066 sha256=4d3be3a1c8cb310c505bf6c556a8f547696c2d8f8390fb7c483b1aa7bd2b031b\n",
      "  Stored in directory: /Users/chad/Library/Caches/pip/wheels/83/63/2f/117884c3b19d46b64d3d61690333aa80c88dc14050e269c546\n",
      "Successfully built sgmllib3k\n",
      "Installing collected packages: sgmllib3k, feedparser, arxiv\n",
      "Successfully installed arxiv-1.4.7 feedparser-6.0.10 sgmllib3k-1.0.0\n",
      "\u001b[33mWARNING: You are using pip version 20.2.3; however, version 23.1.2 is available.\n",
      "You should consider upgrading via the '/Library/Frameworks/Python.framework/Versions/3.8/bin/python3.8 -m pip install --upgrade pip' command.\u001b[0m\n",
      "Collecting pymupdf\n",
      "  Downloading PyMuPDF-1.22.3-cp38-cp38-macosx_10_9_x86_64.whl (12.9 MB)\n",
      "\u001b[K     |████████████████████████████████| 12.9 MB 6.1 MB/s eta 0:00:01\n",
      "\u001b[?25hInstalling collected packages: pymupdf\n",
      "Successfully installed pymupdf-1.22.3\n",
      "\u001b[33mWARNING: You are using pip version 20.2.3; however, version 23.1.2 is available.\n",
      "You should consider upgrading via the '/Library/Frameworks/Python.framework/Versions/3.8/bin/python3.8 -m pip install --upgrade pip' command.\u001b[0m\n"
     ]
    }
   ],
   "source": [
    "!pip install arxiv\n",
    "!pip install pymupdf"
   ]
  },
  {
   "cell_type": "markdown",
   "id": "informed-wright",
   "metadata": {},
   "source": [
    "ArxivLoader has these arguments:\n",
    "\n",
    "query: free text which used to find documents in the Arxiv\n",
    "\n",
    "optional load_max_docs: default=100. Use it to limit number of downloaded documents. It takes time to download all 100 documents, so use a small number for experiments.\n",
    "\n",
    "optional load_all_available_meta: default=False. By default only the most important fields downloaded: Published (date when document was published/last updated), Title, Authors, Summary. If True, other fields also downloaded."
   ]
  },
  {
   "cell_type": "code",
   "execution_count": 8,
   "id": "medieval-afghanistan",
   "metadata": {},
   "outputs": [],
   "source": [
    "# Note: gives SSL certificate error...\n",
    "\n",
    "\n",
    "#from langchain.document_loaders import ArxivLoader\n",
    "#docs = ArxivLoader(query=\"1605.08386\", load_max_docs=1).load()\n",
    "#len(docs)"
   ]
  },
  {
   "cell_type": "code",
   "execution_count": 13,
   "id": "postal-grace",
   "metadata": {},
   "outputs": [],
   "source": [
    "from langchain.vectorstores import Chroma\n",
    "from langchain.text_splitter import CharacterTextSplitter\n",
    "from langchain import VectorDBQA\n",
    "from langchain.document_loaders import DirectoryLoader\n",
    "\n",
    "import os\n",
    "\n",
    "text_splitter = CharacterTextSplitter(chunk_size=1000, chunk_overlap=0)"
   ]
  },
  {
   "cell_type": "code",
   "execution_count": 14,
   "id": "minute-cassette",
   "metadata": {},
   "outputs": [],
   "source": [
    "documents = loader.load()\n",
    "texts = text_splitter.split_documents(documents)"
   ]
  },
  {
   "cell_type": "code",
   "execution_count": null,
   "id": "charming-webcam",
   "metadata": {},
   "outputs": [],
   "source": [
    "#Get embeddings \n",
    "from langchain.embeddings import HuggingFaceEmbeddings\n",
    "embeddings = HuggingFaceEmbeddings()\n",
    "\n",
    "docsearch = Chroma.from_documents(texts, embeddings)\n",
    "\n",
    "qa = VectorDBQA.from_chain_type(llm=flan-t5-xl(), chain_type=\"stuff\", vectorstore=docsearch, return_source_documents=True)"
   ]
  },
  {
   "cell_type": "code",
   "execution_count": null,
   "id": "derived-audience",
   "metadata": {},
   "outputs": [],
   "source": [
    "query = \"What did McCarthy discover?\"\n",
    "result = qa({\"query\": query})"
   ]
  }
 ],
 "metadata": {
  "kernelspec": {
   "display_name": "Python 3",
   "language": "python",
   "name": "python3"
  },
  "language_info": {
   "codemirror_mode": {
    "name": "ipython",
    "version": 3
   },
   "file_extension": ".py",
   "mimetype": "text/x-python",
   "name": "python",
   "nbconvert_exporter": "python",
   "pygments_lexer": "ipython3",
   "version": "3.8.5"
  }
 },
 "nbformat": 4,
 "nbformat_minor": 5
}
